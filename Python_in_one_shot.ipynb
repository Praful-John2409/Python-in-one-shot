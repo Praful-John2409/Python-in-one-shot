{
  "cells": [
    {
      "cell_type": "markdown",
      "metadata": {
        "id": "s782zEfyfTed"
      },
      "source": [
        "To run this file error free run the first code cell so that it imports all the libraries."
      ]
    },
    {
      "cell_type": "code",
      "execution_count": 11,
      "metadata": {
        "colab": {
          "base_uri": "https://localhost:8080/"
        },
        "id": "AhZ0HJZ3A_uW",
        "outputId": "d6a85d77-82c2-4447-8a57-110ae74cfe2b"
      },
      "outputs": [
        {
          "output_type": "stream",
          "name": "stdout",
          "text": [
            "Hello World\n"
          ]
        }
      ],
      "source": [
        "import sys\n",
        "import random\n",
        "import math\n",
        "import threading\n",
        "import time\n",
        "from functools import reduce\n",
        "\n",
        "print(\"Hello World\")"
      ]
    },
    {
      "cell_type": "code",
      "execution_count": null,
      "metadata": {
        "colab": {
          "base_uri": "https://localhost:8080/"
        },
        "id": "d6a1epZFDXyX",
        "outputId": "299bab75-dcf3-4aa4-b98c-43341dd28084"
      },
      "outputs": [
        {
          "name": "stdout",
          "output_type": "stream",
          "text": [
            "what is your namepraful\n",
            "Hi praful\n"
          ]
        }
      ],
      "source": [
        "name=input(\"what is your name\")\n",
        "print(\"Hi\", name)"
      ]
    },
    {
      "cell_type": "markdown",
      "metadata": {
        "id": "QEfCTfhPDzsY"
      },
      "source": [
        "if you want to extend the statements to the next line you can you use () or \\"
      ]
    },
    {
      "cell_type": "code",
      "execution_count": null,
      "metadata": {
        "colab": {
          "base_uri": "https://localhost:8080/"
        },
        "id": "aw43fbB-EA5o",
        "outputId": "d51bf017-b6e2-4094-d642-e99d0318951a"
      },
      "outputs": [
        {
          "name": "stdout",
          "output_type": "stream",
          "text": [
            "36\n"
          ]
        }
      ],
      "source": [
        "x=1+2+3+4+\\\n",
        "5+6+7+8\n",
        "print(x)"
      ]
    },
    {
      "cell_type": "markdown",
      "metadata": {
        "id": "zENVq4y3EIYY"
      },
      "source": [
        "you can also put multiple statements in one line using ;, however, not recommended in python."
      ]
    },
    {
      "cell_type": "code",
      "execution_count": null,
      "metadata": {
        "colab": {
          "base_uri": "https://localhost:8080/"
        },
        "id": "KkX5T7r5EOMe",
        "outputId": "ee3ea37a-5f51-4b52-9ebe-e36d4498fd1c"
      },
      "outputs": [
        {
          "name": "stdout",
          "output_type": "stream",
          "text": [
            "10\n"
          ]
        }
      ],
      "source": [
        "x=1+2; x2=3+4; print(x+x2)"
      ]
    },
    {
      "cell_type": "markdown",
      "metadata": {
        "id": "GqiZbiqjEgLG"
      },
      "source": [
        "variables and multiline and single line comment. A is assigned the value 10\n",
        "The 1st character must be _ or a letter\n",
        "Then you can use letters, numbers or _\n",
        "Variable names are type sensitive\n",
        "No need of defining the datatype, it's doen implicitlty."
      ]
    },
    {
      "cell_type": "code",
      "execution_count": null,
      "metadata": {
        "colab": {
          "base_uri": "https://localhost:8080/"
        },
        "id": "ASciMVU5Ers-",
        "outputId": "8f077fca-9fed-4a52-d8cc-750bd86a1d7b"
      },
      "outputs": [
        {
          "name": "stdout",
          "output_type": "stream",
          "text": [
            "10\n",
            "21 21 21\n",
            "23\n",
            "ashish\n"
          ]
        }
      ],
      "source": [
        "\"\"\"This is a\n",
        "multiline comment\"\"\"\n",
        "'''This is also a\n",
        "multiline comment'''\n",
        "#This is a single line comment\n",
        "A=10\n",
        "print(A)\n",
        "V1=v2=v3=21\n",
        "print(V1,v2,v3)\n",
        "v1=23\n",
        "print(v1)\n",
        "v1=\"ashish\"\n",
        "print(v1)"
      ]
    },
    {
      "cell_type": "markdown",
      "metadata": {
        "id": "Gh0wY7HceYiB"
      },
      "source": [
        "Let's now get the type of the data and the size of the different data types"
      ]
    },
    {
      "cell_type": "code",
      "execution_count": null,
      "metadata": {
        "colab": {
          "base_uri": "https://localhost:8080/"
        },
        "id": "jss1TfQXFpsy",
        "outputId": "c1f64785-fad2-4e04-c4da-3cc91a981eff"
      },
      "outputs": [
        {
          "name": "stdout",
          "output_type": "stream",
          "text": [
            "<class 'int'>\n",
            "<class 'float'>\n",
            "<class 'str'>\n",
            "<class 'complex'>\n",
            "<class 'bool'>\n",
            "9223372036854775807\n"
          ]
        }
      ],
      "source": [
        "print(type(10))\n",
        "print(type(10.0))\n",
        "print(type(\"ashish\"))\n",
        "print(type(10+2j))\n",
        "print(type(True))\n",
        "print(sys.maxsize)"
      ]
    },
    {
      "cell_type": "markdown",
      "metadata": {
        "id": "E5EtQpRvgpPB"
      },
      "source": [
        "Float have a max place of 15 on the right of the decimal after that they are inaccurate."
      ]
    },
    {
      "cell_type": "code",
      "execution_count": null,
      "metadata": {
        "colab": {
          "base_uri": "https://localhost:8080/"
        },
        "id": "nhlLox2Yg5Ob",
        "outputId": "1d3d4c63-0e7b-405b-82f6-373d362aa081"
      },
      "outputs": [
        {
          "name": "stdout",
          "output_type": "stream",
          "text": [
            "1.7976931348623157e+308\n",
            "2.2222222222222223\n"
          ]
        }
      ],
      "source": [
        "print(sys.float_info.max)\n",
        "f1 = 1.1111111111111111\n",
        "f2 = 1.1111111111111111\n",
        "f3 = f1 + f2\n",
        "print(f3)"
      ]
    },
    {
      "cell_type": "markdown",
      "metadata": {
        "id": "k9RleRGThNhl"
      },
      "source": [
        "Complex numbers are [real part]+[imaginary part]"
      ]
    },
    {
      "cell_type": "code",
      "execution_count": null,
      "metadata": {
        "colab": {
          "base_uri": "https://localhost:8080/"
        },
        "id": "TAORl7YZhFb7",
        "outputId": "81b8fac5-3267-4212-9679-8c68f263e2ae"
      },
      "outputs": [
        {
          "name": "stdout",
          "output_type": "stream",
          "text": [
            "(10+20j)\n",
            "10.0\n",
            "20.0\n",
            "(10-20j)\n"
          ]
        }
      ],
      "source": [
        "cmplx_num=10+20j\n",
        "print(cmplx_num)\n",
        "print(cmplx_num.real)\n",
        "print(cmplx_num.imag)\n",
        "print(cmplx_num.conjugate())"
      ]
    },
    {
      "cell_type": "markdown",
      "metadata": {
        "id": "wyewYrvhhwhP"
      },
      "source": [
        "Booleans are either True or False"
      ]
    },
    {
      "cell_type": "code",
      "execution_count": null,
      "metadata": {
        "colab": {
          "base_uri": "https://localhost:8080/"
        },
        "id": "YdGPAMoWh0up",
        "outputId": "ed4f5190-5dd4-46f6-ce92-4cf73e813ffe"
      },
      "outputs": [
        {
          "name": "stdout",
          "output_type": "stream",
          "text": [
            "True False\n"
          ]
        }
      ],
      "source": [
        "b1=True\n",
        "b2=False\n",
        "print(b1,b2)"
      ]
    },
    {
      "cell_type": "markdown",
      "metadata": {
        "id": "QwPRvjrOiCSg"
      },
      "source": [
        "Strings are surrounded by ' or \" and Triple quoted strings can contain ' and \""
      ]
    },
    {
      "cell_type": "code",
      "execution_count": null,
      "metadata": {
        "colab": {
          "base_uri": "https://localhost:8080/"
        },
        "id": "99F0hyVKiB4l",
        "outputId": "e6ac78ff-2238-4e91-b717-114cc9524128"
      },
      "outputs": [
        {
          "name": "stdout",
          "output_type": "stream",
          "text": [
            "Escape Sequences ' \t \" \\ and \n",
            "Praful John\n",
            "Triple quoted strings can contain ' and \"\n"
          ]
        }
      ],
      "source": [
        "\n",
        "str1 = \"Escape Sequences \\' \\t \\\" \\\\ and \\nPraful John\"\n",
        "print(str1)\n",
        "str2 = '''Triple quoted strings can contain ' and \"'''''\n",
        "print(str2)"
      ]
    },
    {
      "cell_type": "markdown",
      "metadata": {
        "id": "bphjt7lEifYl"
      },
      "source": [
        "You can cast to different types with int, float, str, chr"
      ]
    },
    {
      "cell_type": "code",
      "execution_count": null,
      "metadata": {
        "colab": {
          "base_uri": "https://localhost:8080/"
        },
        "id": "3Dw0RVRuikcA",
        "outputId": "32f9f1fa-45bf-4daa-b11c-e6b2b16e490a"
      },
      "outputs": [
        {
          "name": "stdout",
          "output_type": "stream",
          "text": [
            "Cast 1 <class 'int'>\n",
            "Cast 2  <class 'str'>\n",
            "Cast 3  <class 'str'>\n",
            "Cast 4  <class 'int'>\n"
          ]
        }
      ],
      "source": [
        "print(\"Cast 1\", type(int(5.4)))  # to int\n",
        "print(\"Cast 2 \", type(str(5.4)))  # to string\n",
        "print(\"Cast 3 \", type(chr(97)))  # to string\n",
        "print(\"Cast 4 \", type(ord('a')))  # to int"
      ]
    },
    {
      "cell_type": "markdown",
      "metadata": {
        "id": "SAlqVPF7jBld"
      },
      "source": [
        "Using the Separator, sep"
      ]
    },
    {
      "cell_type": "code",
      "execution_count": null,
      "metadata": {
        "colab": {
          "base_uri": "https://localhost:8080/"
        },
        "id": "2Grc0FSgjIaA",
        "outputId": "99a25364-8480-4e6b-d7c8-5798f25a7f9a"
      },
      "outputs": [
        {
          "name": "stdout",
          "output_type": "stream",
          "text": [
            "9/24/2001\n",
            "no newline"
          ]
        }
      ],
      "source": [
        "print(9,24,2001, sep='/')\n",
        "print(\"no newline\", end='')  # no newline"
      ]
    },
    {
      "cell_type": "markdown",
      "metadata": {
        "id": "EzltqjJ9j2EF"
      },
      "source": [
        "Let's perform the string formatting"
      ]
    },
    {
      "cell_type": "code",
      "execution_count": null,
      "metadata": {
        "colab": {
          "base_uri": "https://localhost:8080/"
        },
        "id": "wZ4xRGJJkV10",
        "outputId": "a14552aa-170f-47ac-e7bb-1ffa69ba97b0"
      },
      "outputs": [
        {
          "name": "stdout",
          "output_type": "stream",
          "text": [
            "0012 Praful 1.23 A\n"
          ]
        }
      ],
      "source": [
        "print(\"%24d %s %.2f %c\" % (12, \"Praful\", 1.234, 'A'))"
      ]
    },
    {
      "cell_type": "markdown",
      "metadata": {
        "id": "aoFtD4DVllWP"
      },
      "source": [
        "Let's perform some math."
      ]
    },
    {
      "cell_type": "code",
      "execution_count": null,
      "metadata": {
        "colab": {
          "base_uri": "https://localhost:8080/"
        },
        "id": "SxqvTEdUlo5O",
        "outputId": "5e056e2b-4334-4390-aed5-39c58b218902"
      },
      "outputs": [
        {
          "name": "stdout",
          "output_type": "stream",
          "text": [
            "1082+37912 = 38994\n",
            "108221-37912 = 70309\n",
            "1082*37912 = 41020784\n",
            "1082/37912 = 0.028539776324119012\n",
            "1082**3 = 1266723368\n",
            "1082%37912 = 1082\n",
            "421082//37912 = 11\n",
            "20\n",
            "10\n",
            "100\n",
            "10.0\n",
            "0.0\n",
            "0.0\n",
            "0.0\n"
          ]
        }
      ],
      "source": [
        "print(\"1082+37912 =\",1082+37912)\n",
        "print(\"108221-37912 =\",108221-37912)\n",
        "print(\"1082*37912 =\",1082*37912)\n",
        "print(\"1082/37912 =\",1082/37912)\n",
        "print(\"1082**3 =\",1082**3)\n",
        "print(\"1082%37912 =\",1082%37912)\n",
        "print(\"421082//37912 =\",421082//37912)\n",
        "a=10\n",
        "a+=10\n",
        "print(a)\n",
        "a-=10\n",
        "print(a)\n",
        "a*=10\n",
        "print(a)\n",
        "a/=10\n",
        "print(a)\n",
        "a%=10\n",
        "print(a)\n",
        "a//=10\n",
        "print(a)\n",
        "a**=10\n",
        "print(a)"
      ]
    },
    {
      "cell_type": "markdown",
      "metadata": {
        "id": "YWDu7Je0nDPo"
      },
      "source": [
        "Math functions."
      ]
    },
    {
      "cell_type": "code",
      "execution_count": null,
      "metadata": {
        "colab": {
          "base_uri": "https://localhost:8080/"
        },
        "id": "QgqUN_y5muWd",
        "outputId": "6c18861c-258c-4c07-e4a0-f56cc223a3a0"
      },
      "outputs": [
        {
          "name": "stdout",
          "output_type": "stream",
          "text": [
            "2\n",
            "1\n",
            "1.2\n",
            "120\n",
            "1.0\n",
            "15.0\n",
            "abs(-1)  1\n",
            "max(5, 4)  5\n",
            "min(5, 4)  4\n",
            "pow(2, 2)  4\n",
            "ceil(4.5)  5\n",
            "floor(4.5)  4\n",
            "round(4.5)  4\n",
            "exp(1)  2.718281828459045\n",
            "log(e)  1.0\n",
            "log(100)  2.0\n",
            "sqrt(100)  10.0\n",
            "sin(0)  0.0\n",
            "cos(0)  1.0\n",
            "tan(0)  0.0\n",
            "asin(0)  0.0\n",
            "acos(0)  1.5707963267948966\n",
            "atan(0)  0.0\n",
            "sinh(0)  0.0\n",
            "cosh(0)  1.0\n",
            "tanh(0)  0.0\n",
            "asinh(0)  0.0\n",
            "acosh(pi)  1.811526272460853\n",
            "atanh(0)  0.0\n",
            "hypot(0)  14.142135623730951\n",
            "radians(0)  0.0\n",
            "degrees(pi)  180.0\n"
          ]
        }
      ],
      "source": [
        "#math functions\n",
        "print(math.ceil(1.2))\n",
        "print(math.floor(1.2))\n",
        "print(math.fabs(-1.2))\n",
        "print(math.factorial(5))\n",
        "print(math.fmod(10,3))\n",
        "print(math.fsum([1,2,3,4,5]))\n",
        "print(\"abs(-1) \", abs(-1))\n",
        "print(\"max(5, 4) \", max(5, 4))\n",
        "print(\"min(5, 4) \", min(5, 4))\n",
        "print(\"pow(2, 2) \", pow(2, 2))\n",
        "print(\"ceil(4.5) \", math.ceil(4.5))\n",
        "print(\"floor(4.5) \", math.floor(4.5))\n",
        "print(\"round(4.5) \", round(4.5))\n",
        "print(\"exp(1) \", math.exp(1))  # e**x\n",
        "print(\"log(e) \", math.log(math.exp(1)))\n",
        "print(\"log(100) \", math.log(100, 10))  # Base 10 Log\n",
        "print(\"sqrt(100) \", math.sqrt(100))\n",
        "print(\"sin(0) \", math.sin(0))\n",
        "print(\"cos(0) \", math.cos(0))\n",
        "print(\"tan(0) \", math.tan(0))\n",
        "print(\"asin(0) \", math.asin(0))\n",
        "print(\"acos(0) \", math.acos(0))\n",
        "print(\"atan(0) \", math.atan(0))\n",
        "print(\"sinh(0) \", math.sinh(0))\n",
        "print(\"cosh(0) \", math.cosh(0))\n",
        "print(\"tanh(0) \", math.tanh(0))\n",
        "print(\"asinh(0) \", math.asinh(0))\n",
        "print(\"acosh(pi) \", math.acosh(math.pi))\n",
        "print(\"atanh(0) \", math.atanh(0))\n",
        "print(\"hypot(0) \", math.hypot(10, 10))  # sqrt(x*x + y*y)\n",
        "print(\"radians(0) \", math.radians(0))\n",
        "print(\"degrees(pi) \", math.degrees(math.pi))"
      ]
    },
    {
      "cell_type": "markdown",
      "metadata": {
        "id": "6d70TE6on8Qj"
      },
      "source": [
        "using random and inf"
      ]
    },
    {
      "cell_type": "code",
      "execution_count": null,
      "metadata": {
        "colab": {
          "base_uri": "https://localhost:8080/"
        },
        "id": "hp6VlqwboD5x",
        "outputId": "9ee24480-bd16-43b5-c471-3d709a312b65"
      },
      "outputs": [
        {
          "name": "stdout",
          "output_type": "stream",
          "text": [
            "random number 0.8715386617583741\n",
            "random number between 1 to 10: 10\n",
            "random number 5\n",
            "True\n",
            "True\n",
            "False\n",
            "True\n",
            "inf\n",
            "21\n"
          ]
        }
      ],
      "source": [
        "print(\"random number\",random.random())\n",
        "print(\"random number between 1 to 10:\",random.randint(1, 10))\n",
        "print(\"random number\",random.randrange(1, 12, 2))\n",
        "print(math.inf>0)\n",
        "print(-math.inf<0)\n",
        "print(math.inf==0)\n",
        "print(math.inf==math.inf)\n",
        "print(math.inf)"
      ]
    },
    {
      "cell_type": "markdown",
      "metadata": {
        "id": "Bn_LnC-gp57a"
      },
      "source": [
        "A program to check if a person can drive or not using if\n",
        "\n",
        "\n"
      ]
    },
    {
      "cell_type": "code",
      "execution_count": null,
      "metadata": {
        "colab": {
          "base_uri": "https://localhost:8080/"
        },
        "id": "UsRshT-_p-aa",
        "outputId": "34283bc2-10f6-4fd3-a0e7-88e0613d83ba"
      },
      "outputs": [
        {
          "name": "stdout",
          "output_type": "stream",
          "text": [
            "Enter your age: 12\n",
            "You are not eligible to drive\n"
          ]
        }
      ],
      "source": [
        "age = int(input(\"Enter your age: \"))\n",
        "if age>=21:\n",
        "  print(\"You are eligible to drive a trailor truck\")\n",
        "elif age>=18:\n",
        "  print(\"You are eligible to drive a car\")\n",
        "elif age>=13:\n",
        "  print(\"You are eligible to drive a bike\")\n",
        "else:\n",
        "  print(\"You are not eligible to drive\")\n"
      ]
    },
    {
      "cell_type": "code",
      "execution_count": null,
      "metadata": {
        "colab": {
          "base_uri": "https://localhost:8080/"
        },
        "id": "j-30mqNLsHca",
        "outputId": "a3dca4ef-c1c2-4306-a70e-741d8da9e8e1"
      },
      "outputs": [
        {
          "name": "stdout",
          "output_type": "stream",
          "text": [
            "Enter your age: 45\n",
            "Can't tell False\n"
          ]
        }
      ],
      "source": [
        "age = int(input(\"Enter your age: \"))\n",
        "if age < 5:\n",
        "    print(\"Stay Home\")\n",
        "elif (age >= 5) and (age <= 6):\n",
        "    print(\"Kindergarten\")\n",
        "elif (age > 6) and (age <= 17):\n",
        "      print(\"Grade\", (age - 5))\n",
        "else:\n",
        "    print(\"Can't tell\")\n",
        "# Ternary operator in Python\n",
        "# condition_true if condition else condition_false\n",
        "canVote = True if age >= 18 else False\n",
        "print(\"You can vote? \"canVote)"
      ]
    },
    {
      "cell_type": "markdown",
      "metadata": {
        "id": "j5sx8Jma1H2s"
      },
      "source": [
        "STRINGS\n",
        "Raw strings ignore escape sequences\n",
        "len(string_name) function is used to get the length of the string\n",
        "[-1] to access the last character"
      ]
    },
    {
      "cell_type": "code",
      "execution_count": null,
      "metadata": {
        "colab": {
          "base_uri": "https://localhost:8080/"
        },
        "id": "gF8dO8fF1IiV",
        "outputId": "66794477-7c3a-4bdf-fe3f-a9bc163f6f6d"
      },
      "outputs": [
        {
          "name": "stdout",
          "output_type": "stream",
          "text": [
            "I'll be ignored \\n\n",
            "Hello You\n",
            "Length  9\n",
            "1st  H\n",
            "Last  u\n",
            "1st 3  Hell\n",
            "replace  Hello World\n",
            "Hello You\n",
            "slice  ello\n",
            "You in  True\n",
            "YOu not in  True\n",
            "changing  Hello you\n",
            "Hello You\n",
            "other method  Hello you\n",
            "find  6\n",
            "strip Hello You\n",
            "lstrip  Hello You\n",
            "      rstrip Hello You\n",
            "HelloYou\n",
            "['Hello', 'You']\n",
            "upper  HELLO YOU\n",
            "lower  hello you\n",
            "1020\n",
            "5+5=10\n",
            "False\n",
            "False\n",
            "False\n"
          ]
        }
      ],
      "source": [
        "print(r\"I'll be ignored \\n\")\n",
        "\n",
        "# Combine strings with +\n",
        "print(\"Hello \" + \"You\")\n",
        "\n",
        "# Get string length\n",
        "str3 = \"Hello You\"\n",
        "print(\"Length \", len(str3))\n",
        "\n",
        "# Character at index\n",
        "print(\"1st \", str3[0])\n",
        "\n",
        "# Last character\n",
        "print(\"Last \", str3[-1])\n",
        "\n",
        "# 1st 3 chrs\n",
        "print(\"1st 3 \", str3[0:4])  # Start, up to not including the that index(4th here)\n",
        "\n",
        "#to replace\n",
        "print(\"replace \", str3.replace(\"You\", \"World\"))\n",
        "print(str3)\n",
        "#to slice\n",
        "print(\"slice \", str3[1:5])\n",
        "#in\n",
        "print(\"You in \", \"You\" in str3)\n",
        "#not in\n",
        "print(\"YOu not in \", \"YOu\" not in str3)\n",
        "#changing Y to y\n",
        "print(\"changing \", str3.replace(\"Y\", \"y\"))\n",
        "#other method to do so\n",
        "print(str3)\n",
        "print(\"other method \", str3[:6] + \"y\" + str3[7:])\n",
        "#find\n",
        "print(\"find \", str3.find(\"You\"))\n",
        "#strip\n",
        "print(\"strip   \".strip(), str3.strip())\n",
        "#lstrip\n",
        "print(\"lstrip \".lstrip(), str3.lstrip())\n",
        "#rstrip\n",
        "print(\"      rstrip \".rstrip(), str3.rstrip())\n",
        "#join and slipt to make lists of strings\n",
        "print(\"\".join([\"Hello\",\"You\"])) #joining two different strings to form a list\n",
        "print(\"Hello You\".split()) #splitting one string\n"
      ]
    },
    {
      "cell_type": "markdown",
      "metadata": {
        "id": "gQkR-FE07YmZ"
      },
      "source": [
        "String continued"
      ]
    },
    {
      "cell_type": "code",
      "execution_count": null,
      "metadata": {
        "colab": {
          "base_uri": "https://localhost:8080/"
        },
        "id": "1xy2Hs7T7cGa",
        "outputId": "61c077ac-95b4-4f85-8267-eabeee4b3443"
      },
      "outputs": [
        {
          "name": "stdout",
          "output_type": "stream",
          "text": [
            "upper  HELLO YOU\n",
            "lower  hello you\n",
            "1020\n",
            "5+5=10\n",
            "True\n",
            "True\n",
            "True\n"
          ]
        }
      ],
      "source": [
        "#upper and lower\n",
        "print(\"upper \", str3.upper())\n",
        "print(\"lower \", str3.lower())\n",
        "#adding two int as strings\n",
        "print(str(10) + str(20))\n",
        "int1=int2=5\n",
        "print(f'{int1}+{int2}={int1+int2}')# SOMETHING TO LOOK AT\n",
        "#check if a string is character or number\n",
        "print(\"sabfbai1234\".isalnum())#Checks if all characters in the string are alphanumeric, meaning they are either letters (a-z, A-Z) or digits (0-9).\n",
        "print(\"hellofrom\".isalpha())#true if the string is completely alphabet(s)\n",
        "print(\"1121\".isdigit())#true if the string is completely number(s)"
      ]
    },
    {
      "cell_type": "markdown",
      "metadata": {
        "id": "j4NMvnYH8j_p"
      },
      "source": [
        "Lists(they contain #Mutable data)"
      ]
    },
    {
      "cell_type": "code",
      "execution_count": null,
      "metadata": {
        "colab": {
          "base_uri": "https://localhost:8080/"
        },
        "id": "cY2txKSa8shi",
        "outputId": "c48c076a-b088-4ea5-8854-bc5dc58c7d9b"
      },
      "outputs": [
        {
          "name": "stdout",
          "output_type": "stream",
          "text": [
            "[1, 2, 3, 'John', False]\n",
            "Length  5\n",
            "[1, 2, 3, 'John', False, 1221]\n",
            "John\n",
            "1221\n",
            "[1, 2, 3, 'Doe', False, 1221]\n",
            "[1, 4, 5, 'Doe', False, 1221]\n",
            "[1, 4, 5, 'John', 'Doe', False, 1221]\n",
            "[1, 2, 4, 5, 'John', 'Doe', False, 1221]\n"
          ]
        }
      ],
      "source": [
        "List1 = [1, 2, 3, \"John\", False]\n",
        "print(List1)\n",
        "#getting the length of the list\n",
        "print(\"Length \", len(List1)) # the time complexity of the len() is O(1)\n",
        "#adding to the list\n",
        "List1.append(1221)\n",
        "print(List1)\n",
        "#fetching the value from the index\n",
        "print(List1[3]); print(List1[-1])#get you the last value in that list\n",
        "#changing the value of thelist\n",
        "List1[3] = \"Doe\"\n",
        "print(List1)\n",
        "#changing multiple values of the list\n",
        "List1[1:3] = [4, 5] #not includes the last index mentioned( here it is the 3rd index)\n",
        "print(List1)\n",
        "#so Cool, inserting at the index without deleting(as many elements i want!!)\n",
        "List1[3:3] = [\"John\"]\n",
        "print(List1)\n",
        "List1.insert(1,2) #other way to insert the element in a list, TC for both of the process is O(n)\n",
        "print(List1)\n"
      ]
    },
    {
      "cell_type": "markdown",
      "metadata": {
        "id": "GSwqqtt6B504"
      },
      "source": [
        "removing and popping from the list"
      ]
    },
    {
      "cell_type": "code",
      "execution_count": null,
      "metadata": {
        "colab": {
          "base_uri": "https://localhost:8080/"
        },
        "id": "nqHVs3Mv98V1",
        "outputId": "b5ef5748-60cd-47a9-da50-3acad46d0ab4"
      },
      "outputs": [
        {
          "name": "stdout",
          "output_type": "stream",
          "text": [
            "[1, 4, 5, 'John', 'Doe']\n",
            "[1, 4, 5, 'John']\n",
            "[1, 4, 5, 'John', 1, 3, 1, 3, 1]\n"
          ]
        }
      ],
      "source": [
        "#removing from the list\n",
        "List1.remove(2)\n",
        "print(List1)\n",
        "List1.pop() #pops the last element of the list.\n",
        "print(List1)"
      ]
    },
    {
      "cell_type": "markdown",
      "metadata": {
        "id": "l8uNOA1TC0py"
      },
      "source": [
        "Now here we will perform some operations on list"
      ]
    },
    {
      "cell_type": "code",
      "execution_count": null,
      "metadata": {
        "colab": {
          "base_uri": "https://localhost:8080/"
        },
        "id": "z7xghVA9C1zW",
        "outputId": "0d95498a-dc55-4219-aad7-ea8f3c9d560d"
      },
      "outputs": [
        {
          "output_type": "stream",
          "name": "stdout",
          "text": [
            "[1, 2, 3, 'John', False, 1, 3, 1, 3, 1]\n",
            "[1, 1] 4\n",
            "1 Exists True\n",
            "Min  1\n",
            "Max  3\n",
            "1st 2 [1, 2]\n",
            "Every Other  [1, 3]\n",
            "List2  [1, 2, 3, 'John', False, 1, 3, 1, 3, 1]\n",
            "Reverse  [1, 3, 1, 3, 1, False, 'John', 3, 2, 1]\n",
            "Reverse [1, 3, 1, 3, 1, False, 'John', 3, 2, 1]\n"
          ]
        }
      ],
      "source": [
        "List1 = [1, 2, 3, \"John\", False]\n",
        "List2= List1.copy()+[1,3,1,3,1]\n",
        "print(List2)\n",
        "l3 = [[1, 2], [3, 4]]\n",
        "print(\"[1, 1]\", l3[1][1])\n",
        "\n",
        "# Does value exist\n",
        "print(\"1 Exists\", (1 in List1))\n",
        "\n",
        "# Min & Max\n",
        "print(\"Min \", min([1, 2, 3]))\n",
        "print(\"Max \", max([1, 2, 3]))\n",
        "\n",
        "# Slice out parts\n",
        "print(\"1st 2\", List1[0:2])\n",
        "print(\"Every Other \", List1[0:-1:2])\n",
        "print(\"List2 \",List2)\n",
        "print(\"Reverse \", List2[::-1]) #reversal with slicing\n",
        "List2.reverse()       #in place reversal\n",
        "print(\"Reverse\",List2)\n"
      ]
    },
    {
      "cell_type": "markdown",
      "source": [
        "Loops for and  while"
      ],
      "metadata": {
        "id": "HsWBmItuXb6e"
      }
    },
    {
      "cell_type": "code",
      "source": [
        "#while loop\n",
        "i = 0\n",
        "while i < 5:\n",
        "    print(i)\n",
        "    i+=1\n",
        "print(i)\n",
        "#for loop\n",
        "for i in range(5):\n",
        "    print(i)\n"
      ],
      "metadata": {
        "colab": {
          "base_uri": "https://localhost:8080/"
        },
        "collapsed": true,
        "id": "N-ekLf-kXdgE",
        "outputId": "e25bc236-b824-41be-ef58-24ec2d0ef8d9"
      },
      "execution_count": null,
      "outputs": [
        {
          "output_type": "stream",
          "name": "stdout",
          "text": [
            "0\n",
            "1\n",
            "2\n",
            "3\n",
            "4\n",
            "5\n",
            "0\n",
            "1\n",
            "2\n",
            "3\n",
            "4\n",
            "0\n",
            "2\n",
            "4\n",
            "6\n",
            "8\n",
            "10\n",
            "12\n",
            "14\n",
            "16\n",
            "18\n"
          ]
        }
      ]
    },
    {
      "cell_type": "code",
      "source": [
        "#printing even values\n",
        "for i in range(0, 20, 2):\n",
        "    print(i)"
      ],
      "metadata": {
        "colab": {
          "base_uri": "https://localhost:8080/"
        },
        "collapsed": true,
        "id": "pIO68CyVZcnd",
        "outputId": "267125e6-39d4-4f64-87b2-fedf58b0a427"
      },
      "execution_count": null,
      "outputs": [
        {
          "output_type": "stream",
          "name": "stdout",
          "text": [
            "0\n",
            "2\n",
            "4\n",
            "6\n",
            "8\n",
            "10\n",
            "12\n",
            "14\n",
            "16\n",
            "18\n"
          ]
        }
      ]
    },
    {
      "cell_type": "code",
      "source": [
        "l4 = [1, 3.14, \"Praful\", True]\n",
        "while len(l4):\n",
        "    print(l4.pop(0))\n",
        "print(l4)"
      ],
      "metadata": {
        "colab": {
          "base_uri": "https://localhost:8080/"
        },
        "id": "j6nTb72dZuk3",
        "outputId": "3af48790-3214-4623-f353-9f91d577e1af"
      },
      "execution_count": null,
      "outputs": [
        {
          "output_type": "stream",
          "name": "stdout",
          "text": [
            "1\n",
            "3.14\n",
            "Praful\n",
            "True\n",
            "[]\n"
          ]
        }
      ]
    },
    {
      "cell_type": "markdown",
      "source": [
        "traversing thru the list using for loop"
      ],
      "metadata": {
        "id": "DqZa2wVLamzA"
      }
    },
    {
      "cell_type": "code",
      "source": [
        "l4 = [1, 3.14, \"Praful\", True]\n",
        "for x in l4:\n",
        "    print(x)\n",
        "\n",
        "# You can also define a list of numbers to\n",
        "# cycle through\n",
        "for x in [2, 4, 6]:\n",
        "    print(x)"
      ],
      "metadata": {
        "colab": {
          "base_uri": "https://localhost:8080/"
        },
        "id": "7BgI1yW9acnc",
        "outputId": "aa9218e3-d4f3-454e-aa8e-cfa434f0c2c9"
      },
      "execution_count": null,
      "outputs": [
        {
          "output_type": "stream",
          "name": "stdout",
          "text": [
            "1\n",
            "3.14\n",
            "Praful\n",
            "True\n",
            "2\n",
            "4\n",
            "6\n"
          ]
        }
      ]
    },
    {
      "cell_type": "markdown",
      "source": [
        "iterators(iter)<---- it is a builtin function"
      ],
      "metadata": {
        "id": "hRWrDPlCfMZJ"
      }
    },
    {
      "cell_type": "code",
      "source": [
        "l5 = [1, 3.14, \"Praful\", True]\n",
        "iterator = iter(l5)\n",
        "print(next(iterator))\n",
        "print(next(iterator))\n",
        "print(next(iterator))\n",
        "print(next(iterator))\n"
      ],
      "metadata": {
        "colab": {
          "base_uri": "https://localhost:8080/"
        },
        "id": "lyafsbkefQo9",
        "outputId": "2012e844-1c20-420c-ba9f-fa04f3b71f73"
      },
      "execution_count": null,
      "outputs": [
        {
          "output_type": "stream",
          "name": "stdout",
          "text": [
            "1\n",
            "3.14\n",
            "Praful\n",
            "True\n"
          ]
        }
      ]
    },
    {
      "cell_type": "markdown",
      "source": [
        "ranges and 2d list"
      ],
      "metadata": {
        "id": "578ApvvHj0OS"
      }
    },
    {
      "cell_type": "code",
      "source": [
        "print(list(range(0,5)))\n",
        "num_list = [[1, 2, 3], [4, 5, 6]]\n",
        "print(num_list[1][2]) #print the num_list(2,1)\n",
        "#loop to print the 2d list\n",
        "for x in range(len(num_list)):\n",
        "    for y in range(len(num_list[x])):\n",
        "        print(num_list[x][y])\n"
      ],
      "metadata": {
        "colab": {
          "base_uri": "https://localhost:8080/"
        },
        "collapsed": true,
        "id": "jkUulsvmj55p",
        "outputId": "65663433-2219-4003-f430-d59253f0b96b"
      },
      "execution_count": null,
      "outputs": [
        {
          "output_type": "stream",
          "name": "stdout",
          "text": [
            "[0, 1, 2, 3, 4]\n",
            "6\n",
            "1\n",
            "2\n",
            "3\n",
            "4\n",
            "5\n",
            "6\n"
          ]
        }
      ]
    },
    {
      "cell_type": "markdown",
      "source": [
        "tuples(immutable):- uses parathesis for declaration."
      ],
      "metadata": {
        "id": "wDhzd3UULMfS"
      }
    },
    {
      "cell_type": "code",
      "source": [
        "t1=(1,3.14,\"Praful\",True)\n",
        "print(t1)\n",
        "print(t1[1])\n",
        "print(len(t1))\n",
        "print(\"First \",t1[0])\n",
        "print(\"Last \",t1[-1])\n",
        "print(\"Slice \",t1[1:3])\n",
        "print(\"Reverse \",t1[::-1])\n",
        "print(\"every other\",t1[1:len(t1):2])\n",
        "for x in t1:\n",
        "    print(x)"
      ],
      "metadata": {
        "colab": {
          "base_uri": "https://localhost:8080/"
        },
        "id": "fFkULzZVLPoH",
        "outputId": "d4d87bec-73f0-47cf-d0d6-62258133092f"
      },
      "execution_count": null,
      "outputs": [
        {
          "output_type": "stream",
          "name": "stdout",
          "text": [
            "(1, 3.14, 'Praful', True)\n",
            "3.14\n",
            "4\n",
            "First  1\n",
            "Last  True\n",
            "Slice  (3.14, 'Praful')\n",
            "Reverse  (True, 'Praful', 3.14, 1)\n",
            "every other (3.14, True)\n",
            "1\n",
            "3.14\n",
            "Praful\n",
            "True\n"
          ]
        }
      ]
    },
    {
      "cell_type": "markdown",
      "source": [
        "Dictionaries"
      ],
      "metadata": {
        "id": "kqYC1bbBN3aP"
      }
    },
    {
      "cell_type": "code",
      "source": [
        "heroes = {\n",
        "    \"Superman\": \"Clark Kent\",\n",
        "    \"Batman\": \"Bruce Wayne\"\n",
        "}\n",
        "\n",
        "villains = dict([\n",
        "    (\"Lex Luthor\", \"Lex Luthor\"),\n",
        "    (\"Loki\", \"Loki\")\n",
        "])\n",
        "print(\"Length\", len(heroes))\n",
        "#getting a value from key\n",
        "print(heroes['Superman'])\n",
        "heroes[\"The Flash\"] = \"Barry Allen\"\n",
        "print(heroes)\n",
        "#deleting a key\n",
        "del heroes[\"The Flash\"]\n",
        "print(heroes)\n",
        "print(list(heroes.keys()))    #gets keys\n",
        "print(list(heroes.values()))    #gets keys\n",
        "print(list(heroes.items()))       #gets the dictionary\n",
        "#deleting using pop\n",
        "heroes.pop(\"Batman\")\n",
        "print(heroes)\n",
        "#searching (in)\n",
        "print(\"Superman in heroes\", \"Superman\" in heroes)\n",
        "#looping in the dictionary\n",
        "for key in heroes:\n",
        "  print(key)\n",
        "for value in heroes.values():\n",
        "  print(value)\n",
        "for key,values in heroes.items():\n",
        "  print(key,values)\n",
        "for key,values in villains.items():\n",
        "  print(key,values)\n",
        "# Formatted print with dictionary mapping\n",
        "d1 = {\"name\": \"Bread\", \"price\": .88}\n",
        "print(\"%(name)s costs $%(price).2f\" % d1)"
      ],
      "metadata": {
        "colab": {
          "base_uri": "https://localhost:8080/"
        },
        "id": "F7eFJatgN6MB",
        "outputId": "4ef92e7b-d5b3-4a00-efd9-280c6a8e4089"
      },
      "execution_count": null,
      "outputs": [
        {
          "output_type": "stream",
          "name": "stdout",
          "text": [
            "Length 2\n",
            "Clark Kent\n",
            "{'Superman': 'Clark Kent', 'Batman': 'Bruce Wayne', 'The Flash': 'Barry Allen'}\n",
            "{'Superman': 'Clark Kent', 'Batman': 'Bruce Wayne'}\n",
            "['Superman', 'Batman']\n",
            "['Clark Kent', 'Bruce Wayne']\n",
            "[('Superman', 'Clark Kent'), ('Batman', 'Bruce Wayne')]\n",
            "{'Superman': 'Clark Kent'}\n",
            "Superman in heroes True\n",
            "Superman\n",
            "Clark Kent\n",
            "Superman Clark Kent\n",
            "Lex Luthor Lex Luthor\n",
            "Loki Loki\n",
            "Bread costs $0.88\n"
          ]
        }
      ]
    },
    {
      "cell_type": "markdown",
      "source": [
        "Set"
      ],
      "metadata": {
        "id": "GzXNy6Z6R5tM"
      }
    },
    {
      "cell_type": "code",
      "source": [
        "# Sets are unordered, so the order you add items won't be reflected\n",
        "# Sets cannot have duplicate items\n",
        "s1 = set([\"Praful\", 1, 2, 2, 3, \"John\"])\n",
        "print(\"Length \", len(s1))\n",
        "print(s1)\n",
        "# Adding to a set\n",
        "s1.add(4)\n",
        "s1.add(True)\n",
        "s1.add(False)\n",
        "print(s1)\n",
        "print(\"Length \", len(s1))\n",
        "# Removing from a set\n",
        "s1.remove(4)\n",
        "s1.discard(False)\n",
        "print(s1)\n",
        "s1.add(\"123\")\n",
        "s1.pop()\n",
        "print(s1)\n",
        "# Check if item in set\n",
        "print(\"Is John in s1 \", \"John\" in s1)\n",
        "# Iterate through set\n",
        "for item in s1:\n",
        "    print(item)\n",
        "# Common set operations\n",
        "s2 = {1, 2, 3}\n",
        "s3 = {3, 4, 5}\n",
        "print(\"Intersection \", s2.intersection(s3))\n",
        "print(\"Union \", s2.union(s3))\n",
        "print(\"Difference \", s2.difference(s3))\n",
        "print(\"Sym Diff \", s2.symmetric_difference(s3))\n",
        "# Clearing a set\n",
        "s1.clear()\n",
        "print(s1)"
      ],
      "metadata": {
        "colab": {
          "base_uri": "https://localhost:8080/"
        },
        "id": "w0M1M84aQ6gX",
        "outputId": "d5640b48-aaa1-442c-aa4e-82bd852a5efd"
      },
      "execution_count": null,
      "outputs": [
        {
          "output_type": "stream",
          "name": "stdout",
          "text": [
            "Length  5\n",
            "{1, 2, 3, 'John', 'Praful'}\n",
            "{False, 1, 2, 3, 4, 'John', 'Praful'}\n",
            "Length  7\n",
            "{1, 2, 3, 'John', 'Praful'}\n",
            "{2, 3, '123', 'John', 'Praful'}\n",
            "Is John in s1  True\n",
            "2\n",
            "3\n",
            "123\n",
            "John\n",
            "Praful\n",
            "Intersection  {3}\n",
            "Union  {1, 2, 3, 4, 5}\n",
            "Difference  {1, 2}\n",
            "Sym Diff  {1, 2, 4, 5}\n",
            "set()\n"
          ]
        }
      ]
    },
    {
      "cell_type": "markdown",
      "source": [
        "Functions."
      ],
      "metadata": {
        "id": "Exx_eAQDXzvP"
      }
    },
    {
      "cell_type": "code",
      "source": [
        "from posixpath import join\n",
        "def get_sum(num1: int=25, num2:int=2):\n",
        "  return num1+num2\n",
        "print(get_sum(2,3))\n",
        "print(get_sum(2))\n",
        "print(get_sum())\n",
        "#a function with multiple arguments\n",
        "def get_sum2(*args):\n",
        "  sum=0\n",
        "  for i in args:\n",
        "    sum+=i\n",
        "  return sum\n",
        "\n",
        "print(get_sum2(1,2,3,4,5,6,7,8,9,10))\n",
        "def next_num(i):\n",
        "  return i+1,i+2\n",
        "i,j=next_num(5)\n",
        "print(i,j)"
      ],
      "metadata": {
        "colab": {
          "base_uri": "https://localhost:8080/"
        },
        "id": "0p0XjcEOT5pv",
        "outputId": "07522137-1bc9-4576-ebf2-5119fcf385e7"
      },
      "execution_count": null,
      "outputs": [
        {
          "output_type": "stream",
          "name": "stdout",
          "text": [
            "5\n",
            "4\n",
            "27\n",
            "55\n",
            "6 7\n"
          ]
        }
      ]
    },
    {
      "cell_type": "markdown",
      "source": [
        "#Anonymous functions\n",
        "Anonymous functions in Python, commonly known as **lambda functions**, are small, single-expression functions that are defined without a name. These functions are particularly useful in situations where a simple operation needs to be performed temporarily, and defining a full function using `def` would be overkill.\n",
        "\n",
        "### Key Features of Anonymous Functions (Lambda Functions):\n",
        "1. **Single Expression**: Lambda functions can only contain a single expression. This makes them limited in complexity but perfect for simple operations.\n",
        "   \n",
        "2. **No Name**: Unlike normal functions defined with `def`, lambda functions are anonymous, meaning they don’t have a name. They are typically used in places where a function is required temporarily, like within another function call.\n",
        "\n",
        "3. **Syntax**:\n",
        "   ```python\n",
        "   lambda arguments: expression\n",
        "   ```\n",
        "   - `arguments`: A comma-separated list of parameters.\n",
        "   - `expression`: An expression that is evaluated and returned.\n",
        "\n",
        "4. **Usage**:\n",
        "   - Lambda functions are often used with higher-order functions like `map()`, `filter()`, and `sorted()`, where a small, quick operation is needed.\n",
        "   - They can be used wherever function objects are required.\n",
        "\n",
        "### Examples:\n",
        "\n",
        "#### Basic Lambda Function:\n",
        "```python\n",
        "# A lambda function that adds 10 to a number\n",
        "add_ten = lambda x: x + 10\n",
        "\n",
        "# Using the lambda function\n",
        "print(add_ten(5))  # Output: 15\n",
        "```\n",
        "\n",
        "#### Using Lambda with `map()`:\n",
        "```python\n",
        "# Using map() to double each number in a list\n",
        "numbers = [1, 2, 3, 4]\n",
        "doubled = map(lambda x: x * 2, numbers)\n",
        "\n",
        "print(list(doubled))  # Output: [2, 4, 6, 8]\n",
        "```\n",
        "\n",
        "#### Using Lambda with `filter()`:\n",
        "```python\n",
        "# Using filter() to filter out even numbers from a list\n",
        "numbers = [1, 2, 3, 4, 5, 6]\n",
        "evens = filter(lambda x: x % 2 == 0, numbers)\n",
        "\n",
        "print(list(evens))  # Output: [2, 4, 6]\n",
        "```\n",
        "\n",
        "#### Using Lambda with `sorted()`:\n",
        "```python\n",
        "# Sorting a list of tuples by the second element\n",
        "tuples = [(1, 2), (3, 1), (5, 3)]\n",
        "sorted_tuples = sorted(tuples, key=lambda x: x[1])\n",
        "\n",
        "print(sorted_tuples)  # Output: [(3, 1), (1, 2), (5, 3)]\n",
        "```\n",
        "\n",
        "### Limitations:\n",
        "- **Simplicity**: Since lambda functions are restricted to a single expression, they are not suitable for complex operations.\n",
        "- **Readability**: Overusing lambda functions can lead to less readable code, especially when the lambda expressions become complicated.\n",
        "- **Debugging**: Lambda functions can be harder to debug than named functions since they don't have a name or a proper stack trace.\n",
        "\n",
        "### When to Use Lambda Functions:\n",
        "- **Small, one-off operations**: When you need a quick function for a short task, especially within other functions like `map()` or `filter()`.\n",
        "- **Inline functions**: When defining a function inline makes the code clearer and more concise.\n",
        "\n",
        "### When Not to Use Lambda Functions:\n",
        "- **Complex logic**: If your function needs multiple lines of code or complex logic, it's better to use a standard function with `def`.\n",
        "- **Code readability**: If using a lambda function makes the code harder to understand, it's better to define a regular function.\n",
        "\n",
        "### Conclusion:\n",
        "Lambda functions are a powerful feature in Python that allow you to write quick, anonymous functions for simple tasks. They are most useful for situations where a simple, one-time function is needed, helping you write more concise and functional code. However, they should be used judiciously to avoid compromising code readability and maintainability."
      ],
      "metadata": {
        "id": "-DMM-GiplHJA"
      }
    },
    {
      "cell_type": "code",
      "source": [
        "def mult_by(num):\n",
        "    return lambda x: x * num\n",
        "print(\"3 * 5 =\", (mult_by(3)(5)))\n",
        "\n",
        "# Using lambda with map to square each number in a list\n",
        "numbers = [1, 2, 3, 4]\n",
        "print(numbers)\n",
        "squared_numbers = list(map(lambda x: x**2, numbers))\n",
        "print(squared_numbers)  # Output: [1, 4, 9, 16]\n"
      ],
      "metadata": {
        "colab": {
          "base_uri": "https://localhost:8080/"
        },
        "id": "w1GFkE95lHux",
        "outputId": "38d6cdfa-2cc2-4f04-b45a-207a50fffbbb"
      },
      "execution_count": null,
      "outputs": [
        {
          "output_type": "stream",
          "name": "stdout",
          "text": [
            "3 * 5 = 15\n",
            "[1, 2, 3, 4]\n",
            "[1, 4, 9, 16]\n"
          ]
        }
      ]
    },
    {
      "cell_type": "markdown",
      "source": [],
      "metadata": {
        "id": "pJpdaH4btV6j"
      }
    },
    {
      "cell_type": "code",
      "source": [
        "def mult_list(list, func):\n",
        "    for x in list:\n",
        "        print(func(x))\n",
        "mult_by_4 = mult_by(2)\n",
        "mult_list(list(range(0, 5)), mult_by_4)"
      ],
      "metadata": {
        "colab": {
          "base_uri": "https://localhost:8080/"
        },
        "id": "6dm8mEUvtWDx",
        "outputId": "da834658-d983-4692-dc20-c9ac3a17f6bf"
      },
      "execution_count": null,
      "outputs": [
        {
          "output_type": "stream",
          "name": "stdout",
          "text": [
            "0\n",
            "2\n",
            "4\n",
            "6\n",
            "8\n"
          ]
        }
      ]
    },
    {
      "cell_type": "markdown",
      "source": [
        "#Maps\n",
        "The `map()` function in Python is a built-in function that applies a specified function to each item of an iterable (such as a list, tuple, etc.) and returns a map object (which is an iterator) containing the results.\n",
        "\n",
        "### Syntax:\n",
        "```python\n",
        "map(function, iterable, ...)\n",
        "```\n",
        "\n",
        "### Parameters:\n",
        "- **`function`**: A function that is applied to each item of the iterable.\n",
        "- **`iterable`**: One or more iterable objects (like lists, tuples, etc.).\n",
        "\n",
        "### How `map()` Works:\n",
        "- The `map()` function applies the given `function` to each item of the `iterable`.\n",
        "- If more than one iterable is passed, the `function` should take that many arguments, and it applies the function to the items of the iterables in parallel.\n",
        "\n",
        "### Example with One Iterable:\n",
        "\n",
        "```python\n",
        "# Function to double a number\n",
        "def double(x):\n",
        "    return x * 2\n",
        "\n",
        "# List of numbers\n",
        "numbers = [1, 2, 3, 4, 5]\n",
        "\n",
        "# Applying the map function\n",
        "doubled_numbers = map(double, numbers)\n",
        "\n",
        "# Converting the map object to a list\n",
        "doubled_list = list(doubled_numbers)\n",
        "\n",
        "print(doubled_list)  # Output: [2, 4, 6, 8, 10]\n",
        "```\n",
        "\n",
        "### Example with Lambda Function:\n",
        "You can use a lambda function instead of defining a separate function:\n",
        "\n",
        "```python\n",
        "numbers = [1, 2, 3, 4, 5]\n",
        "doubled_numbers = list(map(lambda x: x * 2, numbers))\n",
        "print(doubled_numbers)  # Output: [2, 4, 6, 8, 10]\n",
        "```\n",
        "\n",
        "### Example with Multiple Iterables:\n",
        "\n",
        "```python\n",
        "numbers1 = [1, 2, 3]\n",
        "numbers2 = [4, 5, 6]\n",
        "\n",
        "# Function to add two numbers\n",
        "def add(x, y):\n",
        "    return x + y\n",
        "\n",
        "# Applying the map function with two iterables\n",
        "sum_numbers = list(map(add, numbers1, numbers2))\n",
        "\n",
        "print(sum_numbers)  # Output: [5, 7, 9]\n",
        "```\n",
        "\n",
        "### Important Points:\n",
        "- The `map()` function returns a map object, which is an iterator. To see the results, you often need to convert it to a list or another iterable.\n",
        "- If you pass multiple iterables, `map()` stops when the shortest iterable is exhausted.\n",
        "\n",
        "### Use Cases:\n",
        "- **Transformation of data**: Easily apply a transformation to all elements of an iterable.\n",
        "- **Parallel computation**: Apply a function across multiple iterables simultaneously.\n",
        "\n",
        "In summary, `map()` is a powerful tool in Python that allows you to apply a function to each item in an iterable, making it easier to perform bulk operations without the need for explicit loops."
      ],
      "metadata": {
        "id": "IDR0gAg_yBP-"
      }
    },
    {
      "cell_type": "code",
      "source": [
        "one_to_4 = range(1, 5)\n",
        "print(list(one_to_4))\n",
        "times2=lambda x:x*2\n",
        "print(list(map(times2,one_to_4)))"
      ],
      "metadata": {
        "colab": {
          "base_uri": "https://localhost:8080/"
        },
        "id": "UE3prc8-xaD0",
        "outputId": "10a9e203-e706-423f-cbe9-71272c70fa39"
      },
      "execution_count": null,
      "outputs": [
        {
          "output_type": "stream",
          "name": "stdout",
          "text": [
            "[1, 2, 3, 4]\n",
            "[2, 4, 6, 8]\n"
          ]
        }
      ]
    },
    {
      "cell_type": "markdown",
      "source": [
        "#Using Fliter\n",
        "#How filter() is different from map()?\n",
        "`filter()` and `map()` are both built-in functions in Python that work with iterables (like lists, tuples, etc.), but they serve different purposes:\n",
        "\n",
        "### `map()`:\n",
        "- **Purpose**: The `map()` function is used to apply a given function to each item of an iterable and return a map object (which is an iterator) containing the results.\n",
        "- **Transformation**: It transforms each element in the iterable based on the function provided.\n",
        "- **Number of Output Elements**: The number of elements in the output will be the same as the number of elements in the input iterable(s).\n",
        "- **Function Signature**:\n",
        "  ```python\n",
        "  map(function, iterable, ...)\n",
        "  ```\n",
        "- **Example**:\n",
        "  ```python\n",
        "  numbers = [1, 2, 3, 4]\n",
        "  squared = map(lambda x: x**2, numbers)\n",
        "  print(list(squared))  # Output: [1, 4, 9, 16]\n",
        "  ```\n",
        "  - In this example, `map()` applies the lambda function `x**2` to each element in `numbers`, resulting in a list of squared numbers.\n",
        "\n",
        "### `filter()`:\n",
        "- **Purpose**: The `filter()` function is used to filter elements from an iterable based on whether they satisfy a given condition (i.e., the function returns `True` for that element).\n",
        "- **Selection**: It selects elements that meet a certain criterion.\n",
        "- **Number of Output Elements**: The number of elements in the output depends on how many elements satisfy the condition. Only elements for which the function returns `True` are included.\n",
        "- **Function Signature**:\n",
        "  ```python\n",
        "  filter(function, iterable)\n",
        "  ```\n",
        "- **Example**:\n",
        "  ```python\n",
        "  numbers = [1, 2, 3, 4, 5, 6]\n",
        "  evens = filter(lambda x: x % 2 == 0, numbers)\n",
        "  print(list(evens))  # Output: [2, 4, 6]\n",
        "  ```\n",
        "  - In this example, `filter()` applies the lambda function `x % 2 == 0` to each element in `numbers`, returning only the even numbers.\n",
        "\n",
        "### Key Differences:\n",
        "1. **Functionality**:\n",
        "   - **`map()`** transforms each element in the iterable based on the function provided.\n",
        "   - **`filter()`** filters the elements based on a condition and returns only those that satisfy the condition.\n",
        "\n",
        "2. **Return Type**:\n",
        "   - Both return an iterator, but their purposes differ: `map()` returns the transformed items, while `filter()` returns a subset of the original items based on a condition.\n",
        "\n",
        "3. **Number of Output Elements**:\n",
        "   - **`map()`** returns the same number of elements as the input iterable(s).\n",
        "   - **`filter()`** may return fewer elements depending on how many elements satisfy the condition.\n",
        "\n",
        "4. **Typical Use Case**:\n",
        "   - Use **`map()`** when you want to apply a function to every item in an iterable.\n",
        "   - Use **`filter()`** when you want to extract items from an iterable that meet a specific condition.\n",
        "\n",
        "### Combining `map()` and `filter()`:\n",
        "Sometimes, you might want to first filter the elements and then apply a transformation, or vice versa. In such cases, you can combine both `filter()` and `map()`:\n",
        "\n",
        "```python\n",
        "numbers = [1, 2, 3, 4, 5, 6]\n",
        "# Filter even numbers and then square them\n",
        "result = map(lambda x: x**2, filter(lambda x: x % 2 == 0, numbers))\n",
        "print(list(result))  # Output: [4, 16, 36]\n",
        "```\n",
        "\n",
        "In this example, `filter()` first extracts the even numbers, and then `map()` squares those numbers."
      ],
      "metadata": {
        "id": "Ou3Aeyfd3oRV"
      }
    },
    {
      "cell_type": "code",
      "source": [
        "print(list(filter(lambda x:x%2==0,range(0,21))))\n",
        "print(list(map(lambda x:x%2==0,range(0,21)))) # returns true and false based on the condition in the lambda"
      ],
      "metadata": {
        "colab": {
          "base_uri": "https://localhost:8080/"
        },
        "id": "FaylLued3l8z",
        "outputId": "a81da01e-4a56-437c-deb9-4346a8cb1793"
      },
      "execution_count": null,
      "outputs": [
        {
          "output_type": "stream",
          "name": "stdout",
          "text": [
            "[0, 2, 4, 6, 8, 10, 12, 14, 16, 18, 20]\n",
            "[True, False, True, False, True, False, True, False, True, False, True, False, True, False, True, False, True, False, True, False, True]\n"
          ]
        }
      ]
    },
    {
      "cell_type": "markdown",
      "source": [
        "#Reduce()\n",
        "In Python, both `reduce()` and `filter()` are functional programming tools used for processing iterables like lists, but they serve different purposes:\n",
        "\n",
        "### 1. `reduce()`\n",
        "- **Purpose**: It is used to apply a binary function (a function that takes two arguments) cumulatively to the items of an iterable, reducing the iterable to a single value.\n",
        "- **How it works**: It processes the elements one at a time and applies the function cumulatively to combine them into a single result.\n",
        "- **Where it's found**: It is available in the `functools` module.\n",
        "\n",
        "**Example**:\n",
        "```python\n",
        "from functools import reduce\n",
        "\n",
        "# Reduce to calculate the product of all elements in a list\n",
        "numbers = [1, 2, 3, 4]\n",
        "result = reduce(lambda x, y: x * y, numbers)\n",
        "print(result)  # Output: 24\n",
        "```\n",
        "\n",
        "### 2. `filter()`\n",
        "- **Purpose**: It is used to filter elements of an iterable based on a boolean function (a function that returns `True` or `False`).\n",
        "- **How it works**: It returns only the elements for which the function evaluates to `True`, preserving the original structure (e.g., a list or a tuple).\n",
        "- **Where it's found**: It's a built-in Python function.\n",
        "\n",
        "**Example**:\n",
        "```python\n",
        "# Filter to get only even numbers from a list\n",
        "numbers = [1, 2, 3, 4, 5, 6]\n",
        "result = filter(lambda x: x % 2 == 0, numbers)\n",
        "print(list(result))  # Output: [2, 4, 6]\n",
        "```\n",
        "\n",
        "### Summary:\n",
        "- `reduce()`: Combines all elements of an iterable into a single value based on a binary function.\n",
        "- `filter()`: Selects and returns elements that meet a condition based on a boolean function.\n",
        "\n"
      ],
      "metadata": {
        "id": "Fp_CvhOWJxv2"
      }
    },
    {
      "cell_type": "code",
      "source": [
        "#reduce\n",
        "from functools import reduce\n",
        "print(reduce(lambda x,y:x+y,range(0,21)))\n",
        "print(list(filter(lambda x:x%2==0,range(0,21))))"
      ],
      "metadata": {
        "colab": {
          "base_uri": "https://localhost:8080/"
        },
        "id": "d1PSD8bwJzfF",
        "outputId": "f3e1d4d9-6b7f-4bd7-ecfb-93ff4db178a2"
      },
      "execution_count": null,
      "outputs": [
        {
          "output_type": "stream",
          "name": "stdout",
          "text": [
            "210\n",
            "[0, 2, 4, 6, 8, 10, 12, 14, 16, 18, 20]\n"
          ]
        }
      ]
    },
    {
      "cell_type": "markdown",
      "source": [
        "#Exception Handling\n",
        "Exception handling in Python allows you to manage and respond to runtime errors (exceptions) in a controlled manner, ensuring that your program doesn’t crash unexpectedly. It is achieved using `try`, `except`, `else`, `finally` blocks.\n",
        "\n",
        "### Key components:\n",
        "\n",
        "1. **`try` block**: Contains code that might raise an exception. If an exception occurs, it stops executing, and the control moves to the `except` block.\n",
        "   \n",
        "2. **`except` block**: Handles the exception if it occurs. You can specify the type of exception you want to catch (e.g., `ValueError`, `TypeError`) or catch all exceptions using a generic `except`.\n",
        "   \n",
        "3. **`else` block**: (Optional) Executes if no exception occurs in the `try` block.\n",
        "   \n",
        "4. **`finally` block**: (Optional) Executes regardless of whether an exception occurred or not, often used for cleanup actions like closing files or releasing resources.\n",
        "\n",
        "### Example:\n",
        "```python\n",
        "try:\n",
        "    x = 10 / 0  # This will raise a ZeroDivisionError\n",
        "except ZeroDivisionError:\n",
        "    print(\"Cannot divide by zero!\")\n",
        "else:\n",
        "    print(\"No exceptions occurred.\")\n",
        "finally:\n",
        "    print(\"This runs no matter what.\")\n",
        "```\n",
        "\n",
        "### Output:\n",
        "```\n",
        "Cannot divide by zero!\n",
        "This runs no matter what.\n",
        "```\n",
        "\n",
        "### Common exception types:\n",
        "- `ValueError`: Raised when a function receives an argument of the right type but inappropriate value.\n",
        "- `TypeError`: Raised when an operation or function is applied to an object of inappropriate type.\n",
        "- `KeyError`: Raised when trying to access a dictionary with a non-existent key.\n",
        "- `IndexError`: Raised when trying to access an invalid index in a list or sequence.\n",
        "\n"
      ],
      "metadata": {
        "id": "wuW1Xt_5pAe-"
      }
    },
    {
      "cell_type": "code",
      "source": [
        "#we are going to create an infinite loop and use try except block to handle it\n",
        "while True:\n",
        "  try:\n",
        "    int(input(\"please enter a number:\"))\n",
        "    break\n",
        "  except ValueError:\n",
        "    print(\"You didn't enter a number!\")\n",
        "  except:\n",
        "    print(\"something went wrong\")\n",
        "print(\"Thank You\")"
      ],
      "metadata": {
        "colab": {
          "base_uri": "https://localhost:8080/"
        },
        "id": "c8lRi-4opDbz",
        "outputId": "ff84f460-c85c-4eec-a2c9-1d33279ac510"
      },
      "execution_count": 8,
      "outputs": [
        {
          "output_type": "stream",
          "name": "stdout",
          "text": [
            "please enter a number:praful\n",
            "You didn't enter a number!\n",
            "please enter a number:21\n",
            "Thank You\n"
          ]
        }
      ]
    },
    {
      "cell_type": "markdown",
      "source": [
        "In Python, the `with` statement is used to handle files in a clean and efficient way. It ensures that the file is properly closed after its suite finishes, even if an exception is raised. This eliminates the need to manually close the file using `file.close()`.\n",
        "\n",
        "### Syntax:\n",
        "```python\n",
        "with open(<filename>, <mode>) as <file_object>:\n",
        "    <operations>\n",
        "```\n",
        "\n",
        "- **`open()`**: Opens the file.\n",
        "- **`mode`**: Specifies the mode in which the file should be opened (`'r'` for reading, `'w'` for writing, `'a'` for appending, etc.).\n",
        "- **`file_object`**: A variable that represents the file object inside the `with` block.\n",
        "\n",
        "Once the block is exited, the file is automatically closed, even if an error occurs within the block.\n",
        "\n",
        "### Example 1: Reading from a file\n",
        "```python\n",
        "with open('example.txt', 'r') as file:\n",
        "    content = file.read()  # Read the entire content of the file\n",
        "    print(content)\n",
        "```\n",
        "\n",
        "### Example 2: Writing to a file\n",
        "```python\n",
        "with open('example.txt', 'w') as file:\n",
        "    file.write('This is a new line.')  # Write to the file\n",
        "```\n",
        "\n",
        "### Example 3: Appending to a file\n",
        "```python\n",
        "with open('example.txt', 'a') as file:\n",
        "    file.write('\\nThis is an additional line.')  # Append to the file\n",
        "```\n",
        "\n",
        "### Benefits of using `with`:\n",
        "1. **Automatic resource management**: The file is automatically closed when the block is exited, ensuring no resources are leaked.\n",
        "2. **Error handling**: Even if an exception occurs, the file is properly closed.\n",
        "3. **Cleaner code**: Avoids the need to explicitly call `file.close()`.\n"
      ],
      "metadata": {
        "id": "WtsjQwaRsYe0"
      }
    },
    {
      "cell_type": "code",
      "source": [
        "with open(\"mydata.txt\", mode=\"w\", encoding=\"utf-8\") as myFile:\n",
        "    # You can write to the file with write\n",
        "    # It doesn't add a newline\n",
        "    myFile.write(\"Some random text\\nMore random text\\nAnd some more\")\n",
        "\n",
        "# Open a file for reading\n",
        "with open(\"mydata.txt\", encoding=\"utf-8\") as myFile:\n",
        "    # Use read() to get everything at once\n",
        "    print(myFile.read())\n",
        "\n",
        "# Find out if the file is closed\n",
        "print(myFile.closed)"
      ],
      "metadata": {
        "colab": {
          "base_uri": "https://localhost:8080/"
        },
        "id": "yHy4rv9ysYLa",
        "outputId": "b5a6adf6-95d2-4a26-c664-ba45bfa189ec"
      },
      "execution_count": 9,
      "outputs": [
        {
          "output_type": "stream",
          "name": "stdout",
          "text": [
            "Some random text\n",
            "More random text\n",
            "And some more\n",
            "True\n"
          ]
        }
      ]
    },
    {
      "cell_type": "markdown",
      "source": [
        "In Python, **classes** are blueprints for creating objects, which are instances of those classes. Classes define the properties (attributes) and behaviors (methods) that their objects will have. Objects are concrete instances of a class, allowing you to encapsulate data and functionality together.\n",
        "\n",
        "### Key Components of Classes and Objects:\n",
        "1. **Class**: A template that defines attributes (variables) and methods (functions) that the object created from the class will have.\n",
        "2. **Object**: An instance of a class. Each object can have unique values for the attributes defined by its class.\n",
        "3. **Methods**: Functions defined within a class that describe the behaviors of the objects created from the class.\n",
        "4. **Attributes**: Variables that store information about an object.\n",
        "\n",
        "### Keywords used in classes:\n",
        "- **`class`**: Used to define a new class.\n",
        "- **`__init__`**: A special method (called a constructor) used to initialize the object's attributes when it's created. It is called automatically when a new object is instantiated.\n",
        "- **`self`**: Refers to the current instance of the class. It must be the first parameter in methods defined in a class, allowing access to the object's attributes and other methods.\n",
        "- **`__str__`**: A special method that returns a string representation of an object, useful when printing the object.\n",
        "\n",
        "### Explanation to the code below:\n",
        "- **`class Car`**: Defines a class named `Car`.\n",
        "- **`__init__(self, brand, model, year)`**: The constructor method initializes the object's attributes (brand, model, and year) when a `Car` object is created.\n",
        "- **`self`**: Refers to the instance of the class and allows you to assign values to object attributes.\n",
        "- **`display_info(self)`**: A method that returns a string with the car's details.\n",
        "- **`drive(self)`**: A method that simulates the car driving.\n",
        "\n",
        "### Object Creation:\n",
        "- **`my_car = Car(\"Toyota\", \"Corolla\", 2022)`**: Creates an object `my_car` of the `Car` class with specified values for `brand`, `model`, and `year`.\n",
        "  \n",
        "### Calling Methods:\n",
        "- **`my_car.display_info()`**: Calls the `display_info` method to display details about the car.\n",
        "- **`my_car.drive()`**: Calls the `drive` method to simulate driving the car.\n",
        "\n",
        "### Special Methods:\n",
        "- **`__str__(self)`**: If implemented, can provide a human-readable string representation of the object. Example:\n",
        "\n",
        "With `__str__`, printing `my_car` directly will display the car's details instead of the object memory address:\n",
        "\n",
        "\n",
        "This approach simplifies class and object usage while maintaining readability and modularity."
      ],
      "metadata": {
        "id": "Pg4_1E7Wy5uP"
      }
    },
    {
      "cell_type": "code",
      "source": [
        "class Car:\n",
        "    # Constructor method to initialize object attributes\n",
        "    def __init__(self, brand, model, year):\n",
        "        self.brand = brand  # Attribute: car's brand\n",
        "        self.model = model  # Attribute: car's model\n",
        "        self.year = year    # Attribute: car's manufacturing year\n",
        "\n",
        "    # Method to display car details\n",
        "    def display_info(self):\n",
        "        return f\"{self.year} {self.brand} {self.model}\"\n",
        "\n",
        "    # Method to simulate driving\n",
        "    def drive(self):\n",
        "        return f\"The {self.brand} {self.model} is now driving.\"\n",
        "    def __str__(self):\n",
        "        return f\"{self.year} {self.brand} {self.model}\"\n",
        "\n",
        "# Create an object (instance) of the Car class\n",
        "my_car = Car(\"Toyota\", \"Corolla\", 2022)\n",
        "\n",
        "# Access object's attributes and methods\n",
        "print(my_car.display_info())  # Output: 2022 Toyota Corolla\n",
        "print(my_car.drive())         # Output: The Toyota Corolla is now driving.\n",
        "\n",
        "print(my_car)  # Output: 2022 Toyota Corolla"
      ],
      "metadata": {
        "colab": {
          "base_uri": "https://localhost:8080/"
        },
        "id": "T2BncdC0y4EV",
        "outputId": "24178fba-598a-4574-c961-897679509acb"
      },
      "execution_count": 12,
      "outputs": [
        {
          "output_type": "stream",
          "name": "stdout",
          "text": [
            "2022 Toyota Corolla\n",
            "The Toyota Corolla is now driving.\n",
            "2022 Toyota Corolla\n"
          ]
        }
      ]
    },
    {
      "cell_type": "code",
      "source": [
        "class Square:\n",
        "    # init is used to set values for each Square\n",
        "    def __init__(self, height=\"0\", width=\"0\"):\n",
        "        self.height = height\n",
        "        self.width = width\n",
        "\n",
        "    # This is the getter\n",
        "    # self is used to refer to an object that\n",
        "    # we don't possess a name for\n",
        "    @property\n",
        "    def height(self):\n",
        "        print(\"Retrieving the height\")\n",
        "\n",
        "        # Put a __ before this private field\n",
        "        return self.__height\n",
        "\n",
        "    # This is the setter\n",
        "    @height.setter\n",
        "    def height(self, value):\n",
        "\n",
        "        # We protect the height from receiving\n",
        "        # a bad value\n",
        "        if value.isdigit():\n",
        "\n",
        "            # Put a __ before this private field\n",
        "            self.__height = value\n",
        "        else:\n",
        "            print(\"Please only enter numbers for height\")\n",
        "\n",
        "    # This is the getter\n",
        "    @property\n",
        "    def width(self):\n",
        "        print(\"Retrieving the width\")\n",
        "        return self.__width\n",
        "\n",
        "    # This is the setter\n",
        "    @width.setter\n",
        "    def width(self, value):\n",
        "        if value.isdigit():\n",
        "            self.__width = value\n",
        "        else:\n",
        "            print(\"Please only enter numbers for width\")\n",
        "\n",
        "    def get_area(self):\n",
        "        return int(self.__width) * int(self.__height)\n",
        "\n",
        "# Create a Square object\n",
        "square = Square()\n",
        "square.height = \"10\"\n",
        "square.width = \"10\"\n",
        "print(\"Area\", square.get_area())"
      ],
      "metadata": {
        "colab": {
          "base_uri": "https://localhost:8080/"
        },
        "id": "fgQJSdY7zXtC",
        "outputId": "4ed56e5c-1b00-4178-ca1a-1f9efc407bbc"
      },
      "execution_count": 13,
      "outputs": [
        {
          "output_type": "stream",
          "name": "stdout",
          "text": [
            "Area 100\n"
          ]
        }
      ]
    },
    {
      "cell_type": "markdown",
      "source": [
        "# INHERITANCE & POLYMORPHISM\n",
        "**Polymorphism** in Python refers to the ability of different objects to be processed in the same way, even if they are of different types. It allows methods or functions to use objects of different classes interchangeably, as long as they share a common interface (e.g., methods with the same name). This is a key concept in object-oriented programming (OOP) that enhances flexibility and code reusability.\n",
        "\n",
        "### Key Concepts of Polymorphism:\n",
        "1. **Method Overriding (Run-Time Polymorphism)**: A subclass can provide its specific implementation of a method that is already defined in its superclass.\n",
        "2. **Method Overloading (Not Native in Python)**: Python doesn’t support method overloading by default, but it can be achieved using default or variable-length arguments.\n",
        "3. **Polymorphism with Functions**: Functions can take any object and call methods without needing to know the object’s specific class, as long as the method exists.\n",
        "\n",
        "\n",
        "\n",
        "### Polymorphism with Functions:\n",
        "\n",
        "Polymorphism can also be applied to functions that work with different types of objects, as long as those objects have the expected attributes or methods. This is often referred to as \"duck typing\" in Python, where the object's type is not checked explicitly. Instead, if it behaves like the expected type (has the required method), it is treated as such.\n",
        "\n",
        "\n",
        "    # Other Magic Methods\n",
        "    # __eq__ : Equal\n",
        "    # __ne__ : Not Equal\n",
        "    # __lt__ : Less Than\n",
        "    # __gt__ : Greater Than\n",
        "    # __le__ : Less Than or Equal\n",
        "    # __ge__ : Greater Than or Equal\n",
        "    # __add__ : Addition\n",
        "    # __sub__ : Subtraction\n",
        "    # __mul__ : Multiplication\n",
        "    # __div__ : Division\n",
        "    # __mod__ : Modulus"
      ],
      "metadata": {
        "id": "CtbeTmxM4GE4"
      }
    },
    {
      "cell_type": "code",
      "source": [
        "# Parent class\n",
        "class Animal:\n",
        "    def sound(self):\n",
        "        return \"This animal makes a sound\"\n",
        "\n",
        "# Child classes\n",
        "class Dog(Animal):\n",
        "    def sound(self):\n",
        "        return \"Bark\"\n",
        "\n",
        "class Cat(Animal):\n",
        "    def sound(self):\n",
        "        return \"Meow\"\n",
        "\n",
        "# Polymorphism with classes\n",
        "def animal_sound(animal):\n",
        "    print(animal.sound())\n",
        "\n",
        "# Creating objects\n",
        "dog = Dog()\n",
        "cat = Cat()\n",
        "\n",
        "# Passing different objects to the same function\n",
        "animal_sound(dog)  # Output: Bark\n",
        "animal_sound(cat)  # Output: Meow"
      ],
      "metadata": {
        "colab": {
          "base_uri": "https://localhost:8080/"
        },
        "id": "bXW1YkDw53am",
        "outputId": "f1658e94-a7e0-49e8-c49c-76e7a71d0d19"
      },
      "execution_count": 4,
      "outputs": [
        {
          "output_type": "stream",
          "name": "stdout",
          "text": [
            "Bark\n",
            "Meow\n"
          ]
        }
      ]
    },
    {
      "cell_type": "code",
      "source": [
        "class Bicycle:\n",
        "    def ride(self):\n",
        "        return \"Riding a bicycle\"\n",
        "\n",
        "class Car:\n",
        "    def ride(self):\n",
        "        return \"Driving a car\"\n",
        "\n",
        "# Polymorphism with function\n",
        "def start_ride(vehicle):\n",
        "    print(vehicle.ride())\n",
        "\n",
        "# Creating objects\n",
        "bike = Bicycle()\n",
        "car = Car()\n",
        "\n",
        "# Both objects can be passed to the function\n",
        "start_ride(bike)  # Output: Riding a bicycle\n",
        "start_ride(car)   # Output: Driving a car"
      ],
      "metadata": {
        "colab": {
          "base_uri": "https://localhost:8080/"
        },
        "id": "ikCMQRIP6BAM",
        "outputId": "c204fe42-2fce-486c-8817-d872fb24bbb4"
      },
      "execution_count": 5,
      "outputs": [
        {
          "output_type": "stream",
          "name": "stdout",
          "text": [
            "Riding a bicycle\n",
            "Driving a car\n"
          ]
        }
      ]
    },
    {
      "cell_type": "code",
      "source": [
        "class Animal:\n",
        "    def __init__(self, name=\"unknown\", weight=0):\n",
        "        self.__name = name\n",
        "        self.__weight = weight\n",
        "\n",
        "    @property\n",
        "    def name(self, name):\n",
        "        self.__name = name\n",
        "\n",
        "    def make_noise(self):\n",
        "        return \"Grrrrr\"\n",
        "\n",
        "    # Used to cast to a string type\n",
        "    def __str__(self):\n",
        "        return \"{} is an {} and says {}\".format (self.__name, type(self).__name__, self.make_noise())\n",
        "\n",
        "\n",
        "    def __gt__(self, animal2):\n",
        "        if self.__weight > animal2.__weight:\n",
        "            return True\n",
        "        else:\n",
        "            return False\n",
        "# Dog inherits everything from Animal\n",
        "class dog(Animal):\n",
        "    def __init__(self, name=\"unknown\", owner=\"unknown\", weight=0):\n",
        "        # Have the super class handle initializing\n",
        "        Animal.__init__(self, name, weight)\n",
        "        self.__owner = owner\n",
        "\n",
        "    # Overwrite str\n",
        "    def __str__(self):\n",
        "        # How to call super class methods\n",
        "        return super().__str__() + \" and is owned by \" + \\\n",
        "        self.__owner\n",
        "\n",
        "animal = Animal(\"Spot\", 100)\n",
        "print(animal)\n",
        "\n",
        "dog = dog(\"Bowser\", \"Bob\", 150)\n",
        "print(dog)\n",
        "\n",
        "# Test the magic method\n",
        "print(animal > dog)"
      ],
      "metadata": {
        "colab": {
          "base_uri": "https://localhost:8080/"
        },
        "id": "_xIoEL-u4DRA",
        "outputId": "959bda4f-d46e-43a7-e706-c6be28bd9574"
      },
      "execution_count": 3,
      "outputs": [
        {
          "output_type": "stream",
          "name": "stdout",
          "text": [
            "Spot is an Animal and says Grrrrr\n",
            "Bowser is an dog and says Grrrrr and is owned by Bob\n",
            "False\n"
          ]
        }
      ]
    },
    {
      "cell_type": "markdown",
      "source": [],
      "metadata": {
        "id": "g-rA2vl-7KSW"
      }
    },
    {
      "cell_type": "code",
      "source": [
        "def execute_thread(i):\n",
        "    print(\"Thread {} sleeps at {}\".format(i,time.strftime(\"%H:%M:%S\", time.gmtime())))\n",
        "    rand_sleep_time = random.randint(1, 5)\n",
        "    time.sleep(rand_sleep_time)\n",
        "    print(\"Thread {} stops sleeping at {}\".format(i,time.strftime(\"%H:%M:%S\", time.gmtime())))\n",
        "\n",
        "\n",
        "for i in range(10):\n",
        "    thread = threading.Thread(target=execute_thread, args=(i,))\n",
        "    thread.start()\n",
        "    print(\"Active Threads :\", threading.activeCount())\n",
        "    print(\"Thread Objects :\", threading.enumerate())"
      ],
      "metadata": {
        "colab": {
          "base_uri": "https://localhost:8080/"
        },
        "collapsed": true,
        "id": "Yx1Y0pP77mq8",
        "outputId": "01c77bfe-f5cb-494e-d3bc-53e3351bde10"
      },
      "execution_count": 12,
      "outputs": [
        {
          "output_type": "stream",
          "name": "stdout",
          "text": [
            "Thread 0 sleeps at 06:07:20\n",
            "Active Threads : 6\n",
            "Thread Objects : [<_MainThread(MainThread, started 138430198505472)>, <Thread(Thread-2 (_thread_main), started daemon 138430034302528)>, <Heartbeat(Thread-3, started daemon 138430025909824)>, <ParentPollerUnix(Thread-1, started daemon 138429777851968)>, <Thread(_colab_inspector_thread, started daemon 138429505447488)>, <Thread(Thread-10 (execute_thread), started 138429513840192)>]\n",
            "Thread 1 sleeps at 06:07:20Active Threads : 7\n",
            "Thread Objects : [<_MainThread(MainThread, started 138430198505472)>, <Thread(Thread-2 (_thread_main), started daemon 138430034302528)>, <Heartbeat(Thread-3, started daemon 138430025909824)>, <ParentPollerUnix(Thread-1, started daemon 138429777851968)>, <Thread(_colab_inspector_thread, started daemon 138429505447488)>, <Thread(Thread-10 (execute_thread), started 138429513840192)>, <Thread(Thread-11 (execute_thread), started 138429763614272)>]\n",
            "\n",
            "Thread 2 sleeps at 06:07:20Active Threads :\n",
            " 8\n",
            "Thread Objects : [<_MainThread(MainThread, started 138430198505472)>, <Thread(Thread-2 (_thread_main), started daemon 138430034302528)>, <Heartbeat(Thread-3, started daemon 138430025909824)>, <ParentPollerUnix(Thread-1, started daemon 138429777851968)>, <Thread(_colab_inspector_thread, started daemon 138429505447488)>, <Thread(Thread-10 (execute_thread), started 138429513840192)>, <Thread(Thread-11 (execute_thread), started 138429763614272)>, <Thread(Thread-12 (execute_thread), started 138429144757824)>]\n",
            "Thread 3 sleeps at 06:07:20\n",
            "Active Threads : 9\n",
            "Thread Objects : [<_MainThread(MainThread, started 138430198505472)>, <Thread(Thread-2 (_thread_main), started daemon 138430034302528)>, <Heartbeat(Thread-3, started daemon 138430025909824)>, <ParentPollerUnix(Thread-1, started daemon 138429777851968)>, <Thread(_colab_inspector_thread, started daemon 138429505447488)>, <Thread(Thread-10 (execute_thread), started 138429513840192)>, <Thread(Thread-11 (execute_thread), started 138429763614272)>, <Thread(Thread-12 (execute_thread), started 138429144757824)>, <Thread(Thread-13 (execute_thread), started 138429136365120)>]\n",
            "Thread 4 sleeps at 06:07:20\n",
            "Active Threads : 10\n",
            "Thread Objects : [<_MainThread(MainThread, started 138430198505472)>, <Thread(Thread-2 (_thread_main), started daemon 138430034302528)>, <Heartbeat(Thread-3, started daemon 138430025909824)>, <ParentPollerUnix(Thread-1, started daemon 138429777851968)>, <Thread(_colab_inspector_thread, started daemon 138429505447488)>, <Thread(Thread-10 (execute_thread), started 138429513840192)>, <Thread(Thread-11 (execute_thread), started 138429763614272)>, <Thread(Thread-12 (execute_thread), started 138429144757824)>, <Thread(Thread-13 (execute_thread), started 138429136365120)>, <Thread(Thread-14 (execute_thread), started 138429127972416)>]\n",
            "Thread 5 sleeps at 06:07:20\n",
            "Active Threads : 11\n",
            "Thread Objects : [<_MainThread(MainThread, started 138430198505472)>, <Thread(Thread-2 (_thread_main), started daemon 138430034302528)>, <Heartbeat(Thread-3, started daemon 138430025909824)>, <ParentPollerUnix(Thread-1, started daemon 138429777851968)>, <Thread(_colab_inspector_thread, started daemon 138429505447488)>, <Thread(Thread-10 (execute_thread), started 138429513840192)>, <Thread(Thread-11 (execute_thread), started 138429763614272)>, <Thread(Thread-12 (execute_thread), started 138429144757824)>, <Thread(Thread-13 (execute_thread), started 138429136365120)>, <Thread(Thread-14 (execute_thread), started 138429127972416)>, <Thread(Thread-15 (execute_thread), started 138429119579712)>]\n",
            "Thread 6 sleeps at 06:07:20Active Threads : 12\n",
            "Thread Objects : [<_MainThread(MainThread, started 138430198505472)>, <Thread(Thread-2 (_thread_main), started daemon 138430034302528)>, <Heartbeat(Thread-3, started daemon 138430025909824)>, <ParentPollerUnix(Thread-1, started daemon 138429777851968)>, <Thread(_colab_inspector_thread, started daemon 138429505447488)>, <Thread(Thread-10 (execute_thread), started 138429513840192)>, <Thread(Thread-11 (execute_thread), started 138429763614272)>, <Thread(Thread-12 (execute_thread), started 138429144757824)>, <Thread(Thread-13 (execute_thread), started 138429136365120)>, <Thread(Thread-14 (execute_thread), started 138429127972416)>, <Thread(Thread-15 (execute_thread), started 138429119579712)>, <Thread(Thread-16 (execute_thread), started 138429111187008)>]\n",
            "\n",
            "Thread 7 sleeps at 06:07:20\n",
            "Active Threads : 13\n",
            "Thread Objects : [<_MainThread(MainThread, started 138430198505472)>, <Thread(Thread-2 (_thread_main), started daemon 138430034302528)>, <Heartbeat(Thread-3, started daemon 138430025909824)>, <ParentPollerUnix(Thread-1, started daemon 138429777851968)>, <Thread(_colab_inspector_thread, started daemon 138429505447488)>, <Thread(Thread-10 (execute_thread), started 138429513840192)>, <Thread(Thread-11 (execute_thread), started 138429763614272)>, <Thread(Thread-12 (execute_thread), started 138429144757824)>, <Thread(Thread-13 (execute_thread), started 138429136365120)>, <Thread(Thread-14 (execute_thread), started 138429127972416)>, <Thread(Thread-15 (execute_thread), started 138429119579712)>, <Thread(Thread-16 (execute_thread), started 138429111187008)>, <Thread(Thread-17 (execute_thread), started 138429102794304)>]\n",
            "Thread 8 sleeps at 06:07:20\n",
            "Active Threads : 14\n",
            "Thread Objects : [<_MainThread(MainThread, started 138430198505472)>, <Thread(Thread-2 (_thread_main), started daemon 138430034302528)>, <Heartbeat(Thread-3, started daemon 138430025909824)>, <ParentPollerUnix(Thread-1, started daemon 138429777851968)>, <Thread(_colab_inspector_thread, started daemon 138429505447488)>, <Thread(Thread-10 (execute_thread), started 138429513840192)>, <Thread(Thread-11 (execute_thread), started 138429763614272)>, <Thread(Thread-12 (execute_thread), started 138429144757824)>, <Thread(Thread-13 (execute_thread), started 138429136365120)>, <Thread(Thread-14 (execute_thread), started 138429127972416)>, <Thread(Thread-15 (execute_thread), started 138429119579712)>, <Thread(Thread-16 (execute_thread), started 138429111187008)>, <Thread(Thread-17 (execute_thread), started 138429102794304)>, <Thread(Thread-18 (execute_thread), started 138429094401600)>]\n",
            "Thread 9 sleeps at 06:07:20\n",
            "Active Threads : 15\n",
            "Thread Objects : [<_MainThread(MainThread, started 138430198505472)>, <Thread(Thread-2 (_thread_main), started daemon 138430034302528)>, <Heartbeat(Thread-3, started daemon 138430025909824)>, <ParentPollerUnix(Thread-1, started daemon 138429777851968)>, <Thread(_colab_inspector_thread, started daemon 138429505447488)>, <Thread(Thread-10 (execute_thread), started 138429513840192)>, <Thread(Thread-11 (execute_thread), started 138429763614272)>, <Thread(Thread-12 (execute_thread), started 138429144757824)>, <Thread(Thread-13 (execute_thread), started 138429136365120)>, <Thread(Thread-14 (execute_thread), started 138429127972416)>, <Thread(Thread-15 (execute_thread), started 138429119579712)>, <Thread(Thread-16 (execute_thread), started 138429111187008)>, <Thread(Thread-17 (execute_thread), started 138429102794304)>, <Thread(Thread-18 (execute_thread), started 138429094401600)>, <Thread(Thread-19 (execute_thread), started 138428809213504)>]\n"
          ]
        },
        {
          "output_type": "stream",
          "name": "stderr",
          "text": [
            "<ipython-input-12-016e8eaccbe0>:11: DeprecationWarning: activeCount() is deprecated, use active_count() instead\n",
            "  print(\"Active Threads :\", threading.activeCount())\n"
          ]
        }
      ]
    },
    {
      "cell_type": "code",
      "source": [
        "import re\n",
        "if re.search(\"ape\", \"The ape was at the apex\"):\n",
        "    print(\"There is an ape\")\n",
        "\n",
        "# findall returns a list of matching strings\n",
        "allApes = re.findall(\"ape.\", \"The ape was at the apex\")\n",
        "\n",
        "for i in allApes:\n",
        "    print(i)\n",
        "theStr = \"The ape was at the apex\"\n",
        "\n",
        "for i in re.finditer(\"ape.\", theStr):\n",
        "    locTuple = i.span()\n",
        "\n",
        "    print(locTuple)\n",
        "\n",
        "    # Slice the match out using the tuple values\n",
        "    print(theStr[locTuple[0]:locTuple[1]])"
      ],
      "metadata": {
        "colab": {
          "base_uri": "https://localhost:8080/"
        },
        "id": "NIMGAIJCAnbg",
        "outputId": "a2709bbb-ac1b-41b2-f28e-d09ca09d2574"
      },
      "execution_count": 13,
      "outputs": [
        {
          "output_type": "stream",
          "name": "stdout",
          "text": [
            "There is an ape\n",
            "ape \n",
            "apex\n",
            "(4, 8)\n",
            "ape \n",
            "(19, 23)\n",
            "apex\n"
          ]
        }
      ]
    },
    {
      "cell_type": "markdown",
      "source": [
        "# RECURSIVE FUNCTIONS\n",
        "# A function that refers to itself is a recursive function\n",
        "\n",
        "# Calculating factorials is commonly done with a recursive\n",
        "# function 3! = 3 * 2 * 1"
      ],
      "metadata": {
        "id": "KTUbWRpkB7Z6"
      }
    },
    {
      "cell_type": "code",
      "source": [
        "\n",
        "def factorial(num):\n",
        "    # Every recursive function must contain a condition\n",
        "    # when it ceases to call itself\n",
        "    if num <= 1:\n",
        "        return 1\n",
        "    else:\n",
        "\n",
        "        result = num * factorial(num - 1)\n",
        "        return result\n",
        "\n",
        "print(factorial(4))\n",
        ""
      ],
      "metadata": {
        "id": "8EL2S4qCBy-7",
        "colab": {
          "base_uri": "https://localhost:8080/"
        },
        "outputId": "032b3cf6-b60a-45b9-f31e-a8e380d6364b"
      },
      "execution_count": 16,
      "outputs": [
        {
          "output_type": "stream",
          "name": "stdout",
          "text": [
            "24\n"
          ]
        }
      ]
    }
  ],
  "metadata": {
    "colab": {
      "provenance": []
    },
    "kernelspec": {
      "display_name": "Python 3",
      "name": "python3"
    },
    "language_info": {
      "name": "python"
    }
  },
  "nbformat": 4,
  "nbformat_minor": 0
}